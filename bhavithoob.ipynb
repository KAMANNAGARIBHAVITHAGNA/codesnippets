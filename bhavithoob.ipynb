{
  "cells": [
    {
      "cell_type": "markdown",
      "metadata": {
        "id": "view-in-github",
        "colab_type": "text"
      },
      "source": [
        "<a href=\"https://colab.research.google.com/github/KAMANNAGARIBHAVITHAGNA/codesnippets/blob/main/bhavithoob.ipynb\" target=\"_parent\"><img src=\"https://colab.research.google.com/assets/colab-badge.svg\" alt=\"Open In Colab\"/></a>"
      ]
    },
    {
      "cell_type": "code",
      "execution_count": 16,
      "metadata": {
        "id": "4H3ncCjJ-_MF"
      },
      "outputs": [],
      "source": []
    },
    {
      "cell_type": "code",
      "execution_count": null,
      "metadata": {
        "colab": {
          "base_uri": "https://localhost:8080/"
        },
        "id": "jx56XG6HCeFj",
        "outputId": "3b8a45d1-611a-494a-86a2-82c2ce5f88f9"
      },
      "outputs": [
        {
          "output_type": "stream",
          "name": "stdout",
          "text": [
            "Price tracking start chesam...\n",
            "Current price: 1999.0\n",
            "Price raledu/taggledhu, malli chusta.\n",
            "Malli 1 hour tarvata check chesta!\n"
          ]
        }
      ],
      "source": [
        "import requests\n",
        "from bs4 import BeautifulSoup\n",
        "import smtplib\n",
        "from email.mime.text import MIMEText\n",
        "import time\n",
        "import re\n",
        "import os\n",
        "\n",
        "def get_price(url):\n",
        "    try:\n",
        "        response = requests.get(url, headers={\n",
        "            'User-Agent': 'Mozilla/5.0 (Windows NT 10.0; Win64; x64) AppleWebKit/537.36 (KHTML, like Gecko) Chrome/130.0.0.0 Safari/537.36',\n",
        "            'Accept': 'text/html,application/xhtml+xml,application/xml;q=0.9,image/webp,image/apng,*/*;q=0.8',\n",
        "            'Accept-Language': 'en-US,en;q=0.9',\n",
        "            'Accept-Encoding': 'gzip, deflate, br',\n",
        "            'Connection': 'keep-alive',\n",
        "            'DNT': '1',\n",
        "            'Cache-Control': 'max-age=0'\n",
        "        })\n",
        "        soup = BeautifulSoup(response.content, 'html.parser')\n",
        "\n",
        "        price_element = soup.select_one('.a-price-whole')  # Amazon price selector\n",
        "\n",
        "        if price_element:\n",
        "            price_text = price_element.text.strip()\n",
        "            price_number = re.findall(r'[\\d,]+', price_text)\n",
        "            if price_number:\n",
        "                price = float(price_number[0].replace(',', ''))\n",
        "                return price\n",
        "        return None\n",
        "    except Exception as e:\n",
        "        print(f\"Error fetching price: {e}\")\n",
        "        return None\n",
        "\n",
        "def send_email(subject, body, to_email):\n",
        "    gmail_user = os.getenv('EMAIL_USER')  # Use environment variables\n",
        "    gmail_password = os.getenv('EMAIL_PASS')\n",
        "\n",
        "    if not gmail_user or not gmail_password:\n",
        "        print(\"Email credentials not set. Please configure them securely.\")\n",
        "        return\n",
        "\n",
        "    try:\n",
        "        msg = MIMEText(body)\n",
        "        msg['Subject'] = subject\n",
        "        msg['From'] = gmail_user\n",
        "        msg['To'] = to_email\n",
        "\n",
        "        server = smtplib.SMTP_SSL('smtp.gmail.com', 465)\n",
        "        server.login(gmail_user, gmail_password)\n",
        "        server.sendmail(gmail_user, to_email, msg.as_string())\n",
        "        server.quit()\n",
        "\n",
        "        print(\"Email sent successfully!\")\n",
        "    except Exception as e:\n",
        "        print(f\"Error sending email: {e}\")\n",
        "\n",
        "def track_price(url, target_price, check_interval=3600):\n",
        "    while True:\n",
        "        current_price = get_price(url)\n",
        "\n",
        "        if current_price is not None:\n",
        "            print(f\"Current price: {current_price}\")\n",
        "\n",
        "            if current_price <= target_price:\n",
        "                subject = \"BRO BHAVI CHEPTUNNADU VINNANDI PRODUCT PRICE TAGGINDI\"\n",
        "                body = f\"\"\"\n",
        "                The price dropped to {current_price}!\n",
        "                This is below your target price {target_price}.\n",
        "                Check the product here: {url}\n",
        "                \"\"\"\n",
        "                send_email(subject, body, 'dillibhavith@gmail.com')\n",
        "                print(\"Email pampa!\")\n",
        "                break\n",
        "            else:\n",
        "                print(\"Price raledu/taggledhu, malli chusta.\")\n",
        "        else:\n",
        "            print(\"Could not retrieve the current price, will try again.\")\n",
        "\n",
        "        print(\"Malli 1 hour tarvata check chesta!\")\n",
        "        time.sleep(check_interval)\n",
        "\n",
        "if __name__ == \"__main__\":\n",
        "    url = \"https://www.amazon.in/realme-Wireless-Earbuds-Spatial-Charging/dp/B0DBGNDTY2/\"\n",
        "    target_price = 500\n",
        "    print(\"Price tracking start chesam...\")\n",
        "    track_price(url, target_price)\n"
      ]
    }
  ],
  "metadata": {
    "colab": {
      "provenance": [],
      "authorship_tag": "ABX9TyO3MM2fgJEktqmx8ZGsekNv",
      "include_colab_link": true
    },
    "kernelspec": {
      "display_name": "Python 3",
      "name": "python3"
    },
    "language_info": {
      "name": "python"
    }
  },
  "nbformat": 4,
  "nbformat_minor": 0
}